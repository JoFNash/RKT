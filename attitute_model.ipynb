{
 "cells": [
  {
   "cell_type": "markdown",
   "metadata": {},
   "source": [
    "# BLUE ORIGIN NEW SHEPARD"
   ]
  },
  {
   "cell_type": "markdown",
   "metadata": {},
   "source": [
    "## Описание математической модели"
   ]
  },
  {
   "cell_type": "markdown",
   "metadata": {},
   "source": [
    "### №2. Расчет траектории полета ракеты"
   ]
  },
  {
   "cell_type": "code",
   "execution_count": 1,
   "metadata": {},
   "outputs": [],
   "source": [
    "# %pip install matplotlib\n",
    "# %pip install pvlib\n",
    "# %pip install skipy"
   ]
  },
  {
   "cell_type": "code",
   "execution_count": 2,
   "metadata": {},
   "outputs": [],
   "source": [
    "# Модули\n",
    "import math\n",
    "import numpy as np\n",
    "import matplotlib.pyplot as plt\n",
    "from pvlib.atmosphere import alt2pres"
   ]
  },
  {
   "cell_type": "markdown",
   "metadata": {},
   "source": [
    "Характеристики двигателя BE-3:"
   ]
  },
  {
   "cell_type": "code",
   "execution_count": 3,
   "metadata": {},
   "outputs": [],
   "source": [
    "# Тяга (в Н)\n",
    "start_thrust = 490 * 1000\n",
    "\n",
    "# Диаметр ракеты (в метрах)\n",
    "midel_diameter = 3.7\n",
    "\n",
    "# Давление в камере сгорания (в МПа)\n",
    "pressure = 13.4 * 100000\n",
    "\n",
    "# Диаметр критического сечения сопла (в метрах)\n",
    "nozzle_section_diameter = 0.379\n",
    "\n",
    "# Площадь критического сечения сопла (в метр^2)\n",
    "nozzle_section_area = math.pi * (nozzle_section_diameter / 2) ** 2\n",
    "\n",
    "# Начальная масса летательного аппарата (полезная нагрузка + конструкция аппарата + топливо) в кг\n",
    "start_rocket_mass = 75000\n",
    "\n",
    "# Конечная масса летательного аппарата\n",
    "end_rocket_mass = 24000\n",
    "\n",
    "# Температура продуктов сгорания (в Кельвинах)\n",
    "fuel_combustion_temperature = 3588\n"
   ]
  },
  {
   "cell_type": "markdown",
   "metadata": {},
   "source": [
    "Дополнительные константы:"
   ]
  },
  {
   "cell_type": "code",
   "execution_count": 4,
   "metadata": {},
   "outputs": [],
   "source": [
    "# Ускорение свободного падения\n",
    "g = 9.8\n",
    "\n",
    "# Газовая постоянная\n",
    "R = 8.31\n",
    "\n",
    "# Показатель адиабаты жидкого водорода (топливо двигателя)\n",
    "k = 1.4"
   ]
  },
  {
   "attachments": {},
   "cell_type": "markdown",
   "metadata": {},
   "source": [
    "Подсчет давления атмосферы на указанной высоте:"
   ]
  },
  {
   "cell_type": "code",
   "execution_count": 5,
   "metadata": {},
   "outputs": [],
   "source": [
    "def calculate_atmosphere_pressure_at_attitude(height: float):\n",
    "    return alt2pres(height)"
   ]
  },
  {
   "attachments": {},
   "cell_type": "markdown",
   "metadata": {},
   "source": [
    "Подсчет плотности атмосферы на высоте:"
   ]
  },
  {
   "cell_type": "code",
   "execution_count": 6,
   "metadata": {},
   "outputs": [],
   "source": [
    "def calculate_atmosphere_density_at_attitude(height: float):\n",
    "    p_0 = 1.29\n",
    "    z = 1.25e-4\n",
    "    return p_0 * math.exp(-height * z)"
   ]
  },
  {
   "attachments": {},
   "cell_type": "markdown",
   "metadata": {},
   "source": [
    "Подсчет секундного расхода топлива:"
   ]
  },
  {
   "cell_type": "code",
   "execution_count": 7,
   "metadata": {},
   "outputs": [],
   "source": [
    "def calculate_fuel_consumption(k: float, pressure: float, section_area: float, temperature: float):\n",
    "    a_k = math.sqrt(k) * (2 / (k + 1)) ** ((k + 1)/(2 * (k - 1)))\n",
    "    return (a_k * pressure * section_area) / math.sqrt(R * temperature)"
   ]
  },
  {
   "attachments": {},
   "cell_type": "markdown",
   "metadata": {},
   "source": [
    "Подсчет текущей тяги двигателя"
   ]
  },
  {
   "cell_type": "code",
   "execution_count": 8,
   "metadata": {},
   "outputs": [],
   "source": [
    "def calculate_current_thrust(atmosphere_pressure: float, start_thrust: float, section_area: float):\n",
    "    return start_thrust - section_area * atmosphere_pressure"
   ]
  },
  {
   "attachments": {},
   "cell_type": "markdown",
   "metadata": {},
   "source": [
    "Подсчет силы лобового сопротивления:"
   ]
  },
  {
   "cell_type": "code",
   "execution_count": 9,
   "metadata": {},
   "outputs": [],
   "source": [
    "def calculate_drag_force(atmosphere_density: float, speed: float, midel_area: float):\n",
    "    c_x_coef = 0.8\n",
    "    return c_x_coef * (atmosphere_density * (speed ** 2)) / 2 * midel_area\n",
    "    "
   ]
  },
  {
   "attachments": {},
   "cell_type": "markdown",
   "metadata": {},
   "source": [
    "Подсчет высоты полета:"
   ]
  },
  {
   "cell_type": "code",
   "execution_count": 31,
   "metadata": {},
   "outputs": [],
   "source": [
    "# Начальная скорость полета ракеты\n",
    "speed = 0\n",
    "\n",
    "# Начальная высота ракеты\n",
    "height = 0\n",
    "\n",
    "# Текущая масса ракеты\n",
    "current_rocket_mass = start_rocket_mass\n",
    "\n",
    "# Расход топлива ракеты\n",
    "fuel_consumption = calculate_fuel_consumption(k, pressure, nozzle_section_area, fuel_combustion_temperature)\n",
    "\n",
    "# Время полета ракеты\n",
    "dt = 1\n",
    "theoretical_time = list(range(0, 140, dt))\n",
    "\n",
    "# Список высот полет ракеты\n",
    "theoretical_height = [height]\n",
    "\n",
    "for time in theoretical_time:\n",
    "    if speed > 0:\n",
    "        break\n",
    "\n",
    "    # Расчет плотности и давления атмосферы\n",
    "    atmosphere_density = calculate_atmosphere_density_at_attitude(height)\n",
    "    atmosphere_pressure = calculate_atmosphere_pressure_at_attitude(height)\n",
    "\n",
    "    # Расчет текущей массы ракеты\n",
    "    current_rocket_mass = current_rocket_mass - fuel_consumption * dt\n",
    "    \n",
    "    # Расчет текущей тяги двигателя\n",
    "    current_thrust = calculate_current_thrust(atmosphere_pressure, start_thrust, nozzle_section_area)\n",
    "\n",
    "    # Расчет текущей силы лобового сопротивления\n",
    "    section_area = math.pi * (midel_diameter / 2) ** 2\n",
    "    current_drag_force = calculate_drag_force(atmosphere_density, speed, section_area)\n",
    "\n",
    "    # Расчет высоты\n",
    "    dv = (current_drag_force - current_thrust - current_rocket_mass * g) / current_rocket_mass * dt\n",
    "\n",
    "   # Расчет новой скорости\n",
    "    previous_speed = speed\n",
    "    speed = previous_speed + dv\n",
    "\n",
    "    # Расчет высоты полета\n",
    "    height = height + previous_speed * dt\n",
    "    theoretical_height.append(height)\n"
   ]
  },
  {
   "attachments": {},
   "cell_type": "markdown",
   "metadata": {},
   "source": [
    "Результаты миссии в KSP:"
   ]
  },
  {
   "cell_type": "code",
   "execution_count": 37,
   "metadata": {},
   "outputs": [],
   "source": [
    "experimental_height = list(range(0, 52000, 1000))\n",
    "experimental_time = [\n",
    "    0,   30,  40,  48,  54,  60,  64,  68,  72,  76,\n",
    "    79,  82,  84,  87,  90,  92,  94,  96,  98,  100,\n",
    "    102, 104, 105, 107, 109, 110, 111, 113, 115, 117,\n",
    "    119, 120, 121, 123, 124, 125, 126, 127, 128, 129,\n",
    "    130, 131, 132, 133, 134, 135, 135, 136, 137, 138,\n",
    "    139, 140]"
   ]
  },
  {
   "cell_type": "code",
   "execution_count": 39,
   "metadata": {},
   "outputs": [
    {
     "name": "stdout",
     "output_type": "stream",
     "text": [
      "141\n",
      "52\n",
      "52\n"
     ]
    },
    {
     "data": {
      "image/png": "[encoded data removed]",
      "text/plain": [
       "<Figure size 1000x1000 with 2 Axes>"
      ]
     },
     "metadata": {},
     "output_type": "display_data"
    }
   ],
   "source": [
    "print(len(theoretical_height))\n",
    "\n",
    "fig, (plt1, plt2) = plt.subplots(2, figsize=(10, 10))\n",
    "\n",
    "plt1.plot(range(len(theoretical_height)), [-height for height in theoretical_height])\n",
    "plt1.grid(True)\n",
    "\n",
    "print(len(experimental_height))\n",
    "print(len(experimental_time))\n",
    "plt2.plot(experimental_time, experimental_height)\n",
    "plt2.set_xticks(np.arange(0, 140, 10))\n",
    "plt2.set_yticks(np.arange(0, 52000, 10000))\n",
    "plt2.grid(True)\n",
    "\n",
    "plt.show()"
   ]
  },
  {
   "cell_type": "code",
   "execution_count": null,
   "metadata": {},
   "outputs": [],
   "source": []
  },
  {
   "cell_type": "code",
   "execution_count": null,
   "metadata": {},
   "outputs": [],
   "source": []
  }
 ],
 "metadata": {
  "kernelspec": {
   "display_name": "Python 3",
   "language": "python",
   "name": "python3"
  },
  "language_info": {
   "codemirror_mode": {
    "name": "ipython",
    "version": 3
   },
   "file_extension": ".py",
   "mimetype": "text/x-python",
   "name": "python",
   "nbconvert_exporter": "python",
   "pygments_lexer": "ipython3",
   "version": "3.10.4"
  },
  "orig_nbformat": 4,
  "vscode": {
   "interpreter": {
    "hash": "e807e0c0012f0843228a8556ec4e67610a80f353a082d7fd6960cb8fdfc4598a"
   }
  }
 },
 "nbformat": 4,
 "nbformat_minor": 2
}
