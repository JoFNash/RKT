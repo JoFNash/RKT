{
 "cells": [
  {
   "cell_type": "markdown",
   "metadata": {},
   "source": [
    "# BLUE ORIGIN NEW SHEPARD"
   ]
  },
  {
   "cell_type": "markdown",
   "metadata": {},
   "source": [
    "## Описание математической модели"
   ]
  },
  {
   "cell_type": "markdown",
   "metadata": {},
   "source": [
    "### №1. Расчет максимальной скорости ракеты"
   ]
  },
  {
   "cell_type": "code",
   "execution_count": 1,
   "metadata": {},
   "outputs": [],
   "source": [
    "# Модули\n",
    "import math"
   ]
  },
  {
   "cell_type": "markdown",
   "metadata": {},
   "source": [
    "Характеристики двигателя BE-3:"
   ]
  },
  {
   "cell_type": "code",
   "execution_count": 2,
   "metadata": {},
   "outputs": [],
   "source": [
    "# Тяга (в Н)\n",
    "thrust = 490 * 1000\n",
    "\n",
    "# Показатель адиабаты  жидкого азота (топливо двигателя)\n",
    "k = 1.410\n",
    "\n",
    "# Давление в камере сгорания (в МПа)\n",
    "pressure = 13.4 * 100000\n",
    "\n",
    "# Диаметр критического сечения сопла (в метрах)\n",
    "critical_section_diameter = 0.379\n",
    "\n",
    "# Площадь критического сечения сопла (в метр^2)\n",
    "critical_section_area = math.pi * (critical_section_diameter / 2) ** 2\n",
    "\n",
    "# Температура продуктов сгорания (в Кельвинах)\n",
    "fuel_combustion_temperature = 3588\n",
    "\n",
    "# Начальная масса летательного аппарата (полезная нагрузка + конструкция аппарата + топливо) в кг\n",
    "start_rocket_mass = 75000\n",
    "\n",
    "# Конечная масса летательного аппарата (полезная нагрузка + конструкция аппарата) в кг = 20569\n",
    "end_rocket_mass = 24000"
   ]
  },
  {
   "cell_type": "markdown",
   "metadata": {},
   "source": [
    "Дополнительные константы:"
   ]
  },
  {
   "cell_type": "code",
   "execution_count": 3,
   "metadata": {},
   "outputs": [],
   "source": [
    "# Ускорение свободного падения\n",
    "g = 9.8\n",
    "\n",
    "# Газовая постоянная\n",
    "R = 8.31"
   ]
  },
  {
   "cell_type": "markdown",
   "metadata": {},
   "source": [
    "Расчет секундного расхода массы топлива:"
   ]
  },
  {
   "cell_type": "code",
   "execution_count": 4,
   "metadata": {},
   "outputs": [],
   "source": [
    "def calculate_fuel_consumption(k: float, pressure: float, critical_section_area: float, temperature: float):\n",
    "    # Коэффициент в выражении для расхода\n",
    "    a_k = math.sqrt(k) * (2 / (k + 1)) ** ((k + 1)/(2 * (k - 1)))\n",
    "\n",
    "    # секундный расход массы топлива\n",
    "    return (a_k * pressure * critical_section_area) / math.sqrt(R * temperature)"
   ]
  },
  {
   "cell_type": "markdown",
   "metadata": {},
   "source": [
    "Расчет удельного импульса тяги:"
   ]
  },
  {
   "cell_type": "code",
   "execution_count": 5,
   "metadata": {},
   "outputs": [],
   "source": [
    "def calculate_impulse(thrust: float, fuel_consumption: float):\n",
    "    return thrust / fuel_consumption"
   ]
  },
  {
   "attachments": {},
   "cell_type": "markdown",
   "metadata": {},
   "source": [
    "Расчет скорости ракеты под действием тяги ракетного двигателя \\\n",
    "Применим формулу Циолковского:\n",
    "### $V = I \\cdot \\ln(\\frac{M1}{M2})$\n",
    "где $V$ — конечная скорость летательного аппарата, которая для случая манёвра в космосе при орбитальных манёврах и межпланетных перелетах часто обозначается ΔV, также именуется характеристической скоростью; \\\n",
    "$I$ — удельный импульс ракетного двигателя (отношение тяги двигателя к секундному расходу массы топлива); \\\n",
    "$M_{1}$ — начальная масса летательного аппарата (полезная нагрузка + конструкция аппарата + топливо); \\\n",
    "$M_{2}$ — конечная масса летательного аппарата (полезная нагрузка + конструкция аппарата)."
   ]
  },
  {
   "cell_type": "code",
   "execution_count": 6,
   "metadata": {},
   "outputs": [
    {
     "name": "stdout",
     "output_type": "stream",
     "text": [
      "Итоговая теоретическая максимальная скорость = 929.0783534827561 м/с\n"
     ]
    }
   ],
   "source": [
    "fuel_consumption = calculate_fuel_consumption(k, pressure, critical_section_area, fuel_combustion_temperature)\n",
    "impulse = calculate_impulse(thrust, fuel_consumption)\n",
    "\n",
    "max_speed = impulse * math.log(start_rocket_mass/end_rocket_mass)\n",
    "print(f\"Итоговая теоретическая максимальная скорость = {max_speed} м/с\")"
   ]
  },
  {
   "cell_type": "markdown",
   "metadata": {},
   "source": [
    "Расчет абсолютной погрешности:"
   ]
  },
  {
   "cell_type": "code",
   "execution_count": 7,
   "metadata": {},
   "outputs": [
    {
     "name": "stdout",
     "output_type": "stream",
     "text": [
      "Абсолютная погрешность расчетов = 36.07835348275614\n"
     ]
    }
   ],
   "source": [
    "# Максимальная скорость Blue Origin New Shepard в KSP(в м/c)\n",
    "V_experimental = 893\n",
    "\n",
    "# Максимальная скорость Blue Origin New Shepard в результате подсчета (в м/с)\n",
    "V_theoretical = max_speed\n",
    "\n",
    "abs_error = abs(V_theoretical - V_experimental)\n",
    "print(f\"Абсолютная погрешность расчетов = {abs_error}\")"
   ]
  },
  {
   "cell_type": "markdown",
   "metadata": {},
   "source": [
    "Расчет относительной погрешности:"
   ]
  },
  {
   "cell_type": "code",
   "execution_count": 8,
   "metadata": {},
   "outputs": [
    {
     "name": "stdout",
     "output_type": "stream",
     "text": [
      "Относительная погрешность расчетов = 4.04%\n"
     ]
    }
   ],
   "source": [
    "rel_error = round(abs_error / V_experimental * 100, 2)\n",
    "print(f\"Относительная погрешность расчетов = {rel_error}%\")"
   ]
  },
  {
   "cell_type": "markdown",
   "metadata": {},
   "source": [
    "### №2. Расчет траектории полета ракеты"
   ]
  },
  {
   "cell_type": "code",
   "execution_count": 19,
   "metadata": {},
   "outputs": [
    {
     "name": "stdout",
     "output_type": "stream",
     "text": [
      "Requirement already satisfied: matplotlib in c:\\users\\newmersedez\\appdata\\local\\programs\\python\\python310\\lib\\site-packages (3.6.2)\n",
      "Requirement already satisfied: packaging>=20.0 in c:\\users\\newmersedez\\appdata\\roaming\\python\\python310\\site-packages (from matplotlib) (22.0)\n",
      "Requirement already satisfied: numpy>=1.19 in c:\\users\\newmersedez\\appdata\\local\\programs\\python\\python310\\lib\\site-packages (from matplotlib) (1.23.2)\n",
      "Requirement already satisfied: fonttools>=4.22.0 in c:\\users\\newmersedez\\appdata\\local\\programs\\python\\python310\\lib\\site-packages (from matplotlib) (4.38.0)\n",
      "Requirement already satisfied: contourpy>=1.0.1 in c:\\users\\newmersedez\\appdata\\local\\programs\\python\\python310\\lib\\site-packages (from matplotlib) (1.0.6)\n",
      "Requirement already satisfied: pillow>=6.2.0 in c:\\users\\newmersedez\\appdata\\local\\programs\\python\\python310\\lib\\site-packages (from matplotlib) (9.3.0)\n",
      "Requirement already satisfied: python-dateutil>=2.7 in c:\\users\\newmersedez\\appdata\\roaming\\python\\python310\\site-packages (from matplotlib) (2.8.2)\n",
      "Requirement already satisfied: pyparsing>=2.2.1 in c:\\users\\newmersedez\\appdata\\local\\programs\\python\\python310\\lib\\site-packages (from matplotlib) (3.0.9)\n",
      "Requirement already satisfied: kiwisolver>=1.0.1 in c:\\users\\newmersedez\\appdata\\local\\programs\\python\\python310\\lib\\site-packages (from matplotlib) (1.4.4)\n",
      "Requirement already satisfied: cycler>=0.10 in c:\\users\\newmersedez\\appdata\\local\\programs\\python\\python310\\lib\\site-packages (from matplotlib) (0.11.0)\n",
      "Requirement already satisfied: six>=1.5 in c:\\users\\newmersedez\\appdata\\roaming\\python\\python310\\site-packages (from python-dateutil>=2.7->matplotlib) (1.16.0)\n",
      "Note: you may need to restart the kernel to use updated packages.\n"
     ]
    },
    {
     "name": "stderr",
     "output_type": "stream",
     "text": [
      "WARNING: You are using pip version 22.0.4; however, version 22.3.1 is available.\n",
      "You should consider upgrading via the 'c:\\Users\\newmersedez\\AppData\\Local\\Programs\\Python\\Python310\\python.exe -m pip install --upgrade pip' command.\n"
     ]
    }
   ],
   "source": [
    "%pip install matplotlib"
   ]
  },
  {
   "cell_type": "code",
   "execution_count": 20,
   "metadata": {},
   "outputs": [],
   "source": [
    "# Модули\n",
    "import math\n",
    "import numpy as np\n",
    "import matplotlib.pyplot as plt"
   ]
  },
  {
   "cell_type": "markdown",
   "metadata": {},
   "source": [
    "Характеристики двигателя BE-3:"
   ]
  },
  {
   "cell_type": "code",
   "execution_count": 10,
   "metadata": {},
   "outputs": [],
   "source": [
    "# Диаметр ракеты (в метрах)\n",
    "midel_diameter = 3.7\n",
    "\n",
    "# Тяга (в Н)\n",
    "thrust = 490 * 1000 / fuel_consumption\n",
    "\n",
    "# Начальная масса летательного аппарата (полезная нагрузка + конструкция аппарата + топливо) в кг\n",
    "start_rocket_mass = 75000\n",
    "\n",
    "# Конечная масса летательного аппарата\n",
    "end_rocket_mass = 24000\n",
    "\n",
    "# Масса топлива\n",
    "fuel_mass = start_rocket_mass - end_rocket_mass\n"
   ]
  },
  {
   "cell_type": "markdown",
   "metadata": {},
   "source": [
    "Дополнительные константы:"
   ]
  },
  {
   "cell_type": "code",
   "execution_count": 11,
   "metadata": {},
   "outputs": [],
   "source": [
    "# Ускорение свободного падения\n",
    "g = 9.8"
   ]
  },
  {
   "attachments": {},
   "cell_type": "markdown",
   "metadata": {},
   "source": [
    "Подсчет идеальной скорости:"
   ]
  },
  {
   "cell_type": "code",
   "execution_count": 12,
   "metadata": {},
   "outputs": [],
   "source": [
    "def calculate_ideal_speed(thrust: float, start_mass: int, fuel_mass: float):\n",
    "    return (thrust * fuel_mass * g) / (start_mass - fuel_mass / 2)"
   ]
  },
  {
   "attachments": {},
   "cell_type": "markdown",
   "metadata": {},
   "source": [
    "Подсчет действительной скорости:"
   ]
  },
  {
   "cell_type": "code",
   "execution_count": 13,
   "metadata": {},
   "outputs": [],
   "source": [
    "def calculate_actual_speed(ideal_speed: float, time: int, midel_diameter: float, thrust:float, a_coef: float):\n",
    "    return ideal_speed - g * time - ((midel_diameter ** 2) / thrust) * a_coef"
   ]
  },
  {
   "attachments": {},
   "cell_type": "markdown",
   "metadata": {},
   "source": [
    "Подсчет высоты активной фазы:"
   ]
  },
  {
   "cell_type": "code",
   "execution_count": 14,
   "metadata": {},
   "outputs": [],
   "source": [
    "def calculate_active_phase_height(actual_speed: float, time: int):\n",
    "    return time * actual_speed / 2"
   ]
  },
  {
   "attachments": {},
   "cell_type": "markdown",
   "metadata": {},
   "source": [
    "Подсчет высоты неактивной фазы:"
   ]
  },
  {
   "cell_type": "code",
   "execution_count": 15,
   "metadata": {},
   "outputs": [],
   "source": [
    "def calculate_passive_phase_height(actual_speed: float):\n",
    "    return 0.8 * (actual_speed ** 2) / (2 * g)"
   ]
  },
  {
   "attachments": {},
   "cell_type": "markdown",
   "metadata": {},
   "source": [
    "Подсчет высоты полета:"
   ]
  },
  {
   "cell_type": "code",
   "execution_count": 16,
   "metadata": {},
   "outputs": [],
   "source": [
    "def calculate_height(actual_speed: float, time: int):\n",
    "    return calculate_active_phase_height(actual_speed, time) + calculate_passive_phase_height(actual_speed)"
   ]
  },
  {
   "cell_type": "code",
   "execution_count": 17,
   "metadata": {},
   "outputs": [],
   "source": [
    "experimental_height = list(range(0, 100000, 1000))\n",
    "experimental_time = [\n",
    "    0,   30,  40,  48,  54,  60,  64,  68,  72,  76,\n",
    "    79,  82,  84,  87,  90,  92,  94,  96,  98,  100,\n",
    "    102, 104, 105, 107, 109, 110, 111, 113, 115, 117,\n",
    "    119, 120, 121, 123, 124, 125, 126, 127, 128, 129,\n",
    "    130, 131, 132, 133, 134, 135, 135, 136, 137, 138,\n",
    "    139, 140, 141, 142, 143, 145, 146, 147, 148, 149,\n",
    "    150, 151, 152, 154, 155, 156, 157, 159, 160, 161,\n",
    "    162, 164, 165, 166, 168, 169, 172, 173, 175, 176,\n",
    "    178, 179, 181, 183, 184, 186, 187, 188, 189, 191,\n",
    "    193, 195, 197, 198, 200, 203, 205, 207, 209, 211]"
   ]
  },
  {
   "cell_type": "code",
   "execution_count": 18,
   "metadata": {},
   "outputs": [
    {
     "data": {
      "image/png": "[encoded data removed]",
      "text/plain": [
       "<Figure size 1000x1000 with 2 Axes>"
      ]
     },
     "metadata": {},
     "output_type": "display_data"
    }
   ],
   "source": [
    "theory_height = []\n",
    "theory_time = list(range(0, 200, 1))\n",
    "\n",
    "ideal_speed = calculate_ideal_speed(thrust, start_rocket_mass, fuel_mass)\n",
    "for time in theory_time:\n",
    "    actual_speed = calculate_actual_speed(ideal_speed, time, midel_diameter, thrust, 400000)\n",
    "    height = 100000 - calculate_height(actual_speed, time)\n",
    "    theory_height.append(height)\n",
    "\n",
    "fig, (plt1, plt2) = plt.subplots(2, figsize=(10, 10))\n",
    "\n",
    "\n",
    "plt1.scatter(theory_time, theory_height, )\n",
    "plt1.set_xticks(np.arange(0, 210, 10))\n",
    "plt1.set_yticks(np.arange(0, 101000, 10000))\n",
    "plt1.grid(True)\n",
    "\n",
    "plt2.scatter(experimental_time, experimental_height)\n",
    "plt2.set_xticks(np.arange(0, 210, 10))\n",
    "plt2.set_yticks(np.arange(0, 101000, 10000))\n",
    "plt2.grid(True)\n",
    "\n",
    "plt.show()"
   ]
  },
  {
   "cell_type": "code",
   "execution_count": null,
   "metadata": {},
   "outputs": [],
   "source": []
  },
  {
   "cell_type": "code",
   "execution_count": null,
   "metadata": {},
   "outputs": [],
   "source": []
  }
 ],
 "metadata": {
  "kernelspec": {
   "display_name": "Python 3.10.4 64-bit",
   "language": "python",
   "name": "python3"
  },
  "language_info": {
   "codemirror_mode": {
    "name": "ipython",
    "version": 3
   },
   "file_extension": ".py",
   "mimetype": "text/x-python",
   "name": "python",
   "nbconvert_exporter": "python",
   "pygments_lexer": "ipython3",
   "version": "3.10.4"
  },
  "orig_nbformat": 4,
  "vscode": {
   "interpreter": {
    "hash": "e807e0c0012f0843228a8556ec4e67610a80f353a082d7fd6960cb8fdfc4598a"
   }
  }
 },
 "nbformat": 4,
 "nbformat_minor": 2
}
