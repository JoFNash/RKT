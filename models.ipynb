{
 "cells": [
  {
   "cell_type": "markdown",
   "metadata": {},
   "source": [
    "# BLUE ORIGIN NEW SHEPARD"
   ]
  },
  {
   "cell_type": "markdown",
   "metadata": {},
   "source": [
    "## Описание математической модели"
   ]
  },
  {
   "cell_type": "markdown",
   "metadata": {},
   "source": [
    "### №1. Расчет максимальной скорости ракеты"
   ]
  },
  {
   "cell_type": "code",
   "execution_count": 55,
   "metadata": {},
   "outputs": [],
   "source": [
    "# Модули\n",
    "import math"
   ]
  },
  {
   "cell_type": "markdown",
   "metadata": {},
   "source": [
    "Характеристики двигателя BE-3:"
   ]
  },
  {
   "cell_type": "code",
   "execution_count": 63,
   "metadata": {},
   "outputs": [],
   "source": [
    "# Тяга (в Н)\n",
    "P = 490 * 1000\n",
    "\n",
    "# Показатель адиабаты  жидкого азота (топливо двигателя)\n",
    "k = 1.410\n",
    "\n",
    "# Давление в камере сгорания (в МПа)\n",
    "p0 = 13.4 * 100000\n",
    "\n",
    "# Диаметр критического сечения сопла (в метрах)\n",
    "sec_d = 0.379\n",
    "\n",
    "# Площадь критического сечения сопла (в метр^2)\n",
    "F_kr = math.pi * (sec_d / 2) ** 2\n",
    "\n",
    "# Температура продуктов сгорания (в Кельвинах)\n",
    "T0 = 3588\n",
    "\n",
    "# Начальная масса летательного аппарата (полезная нагрузка + конструкция аппарата + топливо) в кг\n",
    "M1 = 75000\n",
    "\n",
    "# Конечная масса летательного аппарата (полезная нагрузка + конструкция аппарата) в кг\n",
    "M2 = 20569\n"
   ]
  },
  {
   "cell_type": "markdown",
   "metadata": {},
   "source": [
    "Дополнительные константы:"
   ]
  },
  {
   "cell_type": "code",
   "execution_count": 64,
   "metadata": {},
   "outputs": [],
   "source": [
    "# Ускорение свободного падения\n",
    "g = 9.8\n",
    "\n",
    "# Газовая постоянная\n",
    "R = 8.31"
   ]
  },
  {
   "cell_type": "markdown",
   "metadata": {},
   "source": [
    "Расчет секундного расхода массы топлива:"
   ]
  },
  {
   "cell_type": "code",
   "execution_count": 65,
   "metadata": {},
   "outputs": [
    {
     "name": "stdout",
     "output_type": "stream",
     "text": [
      "0.6864148178041152\n",
      "600.9426402728706\n"
     ]
    }
   ],
   "source": [
    "# Коэффициент в выражении для расхода\n",
    "a_k = math.sqrt(k) * (2 / (k + 1)) ** ((k + 1)/(2 * (k - 1)))\n",
    "print(a_k)\n",
    "\n",
    "# секундный расход массы топлива\n",
    "m = (a_k * p0 * F_kr) / math.sqrt(R * T0)\n",
    "print(m)"
   ]
  },
  {
   "cell_type": "markdown",
   "metadata": {},
   "source": [
    "Расчет удельного импульса тяги:"
   ]
  },
  {
   "cell_type": "code",
   "execution_count": 66,
   "metadata": {},
   "outputs": [
    {
     "name": "stdout",
     "output_type": "stream",
     "text": [
      "815.3856410946397\n"
     ]
    }
   ],
   "source": [
    "# Удельный ипмульс ракетного двигателя\n",
    "I = P / m\n",
    "print(I)"
   ]
  },
  {
   "cell_type": "markdown",
   "metadata": {},
   "source": [
    "Расчет скорости ракеты под действием тяги ракетного двигателя:"
   ]
  },
  {
   "cell_type": "code",
   "execution_count": 67,
   "metadata": {},
   "outputs": [
    {
     "name": "stdout",
     "output_type": "stream",
     "text": [
      "Итоговая максимальная скорость = 3797.5207351184636 км/ч\n"
     ]
    }
   ],
   "source": [
    "# Скорость\n",
    "V = I * math.log(M1/M2) * 3600 / 1000\n",
    "print(f\"Итоговая максимальная скорость = {V} км/ч\")"
   ]
  },
  {
   "cell_type": "markdown",
   "metadata": {},
   "source": [
    "Расчет абсолютной погрешности:"
   ]
  },
  {
   "cell_type": "code",
   "execution_count": 68,
   "metadata": {},
   "outputs": [
    {
     "name": "stdout",
     "output_type": "stream",
     "text": [
      "Абсолютная погрешность расчетов = 229.52073511846356\n"
     ]
    }
   ],
   "source": [
    "# Максимальная скорость Blue Origin New Shepard (в км/x)\n",
    "V_mid = 3568\n",
    "\n",
    "# Максимальная скорость Blue Origin New Shepard в результате подсчета (в км/ч)\n",
    "V_theor = V\n",
    "\n",
    "abs_error = V_theor - V_mid\n",
    "print(f\"Абсолютная погрешность расчетов = {abs_error}\")"
   ]
  },
  {
   "cell_type": "markdown",
   "metadata": {},
   "source": [
    "Расчет относительной погрешности:"
   ]
  },
  {
   "cell_type": "code",
   "execution_count": 69,
   "metadata": {},
   "outputs": [
    {
     "name": "stdout",
     "output_type": "stream",
     "text": [
      "Относительная погрешность расчетов = 6.43%\n"
     ]
    }
   ],
   "source": [
    "# Максимальная скорость Blue Origin New Shepard (в км/x)\n",
    "V_mid = 3568\n",
    "\n",
    "# Максимальная скорость Blue Origin New Shepard в результате подсчета (в км/ч)\n",
    "V_theor = V\n",
    "\n",
    "rel_error = round(abs_error / V_mid * 100, 2)\n",
    "print(f\"Относительная погрешность расчетов = {rel_error}%\")"
   ]
  },
  {
   "cell_type": "markdown",
   "metadata": {},
   "source": [
    "### №2. Расчет траектории полета ракеты"
   ]
  },
  {
   "cell_type": "code",
   "execution_count": 130,
   "metadata": {},
   "outputs": [
    {
     "name": "stdout",
     "output_type": "stream",
     "text": [
      "Requirement already satisfied: matplotlib in c:\\users\\newmersedez\\appdata\\local\\programs\\python\\python310\\lib\\site-packages (3.6.2)\n",
      "Requirement already satisfied: numpy>=1.19 in c:\\users\\newmersedez\\appdata\\local\\programs\\python\\python310\\lib\\site-packages (from matplotlib) (1.23.2)\n",
      "Requirement already satisfied: fonttools>=4.22.0 in c:\\users\\newmersedez\\appdata\\local\\programs\\python\\python310\\lib\\site-packages (from matplotlib) (4.38.0)\n",
      "Requirement already satisfied: pyparsing>=2.2.1 in c:\\users\\newmersedez\\appdata\\local\\programs\\python\\python310\\lib\\site-packages (from matplotlib) (3.0.9)\n",
      "Requirement already satisfied: contourpy>=1.0.1 in c:\\users\\newmersedez\\appdata\\local\\programs\\python\\python310\\lib\\site-packages (from matplotlib) (1.0.6)\n",
      "Requirement already satisfied: packaging>=20.0 in c:\\users\\newmersedez\\appdata\\roaming\\python\\python310\\site-packages (from matplotlib) (22.0)\n",
      "Requirement already satisfied: pillow>=6.2.0 in c:\\users\\newmersedez\\appdata\\local\\programs\\python\\python310\\lib\\site-packages (from matplotlib) (9.3.0)\n",
      "Requirement already satisfied: cycler>=0.10 in c:\\users\\newmersedez\\appdata\\local\\programs\\python\\python310\\lib\\site-packages (from matplotlib) (0.11.0)\n",
      "Requirement already satisfied: python-dateutil>=2.7 in c:\\users\\newmersedez\\appdata\\roaming\\python\\python310\\site-packages (from matplotlib) (2.8.2)\n",
      "Requirement already satisfied: kiwisolver>=1.0.1 in c:\\users\\newmersedez\\appdata\\local\\programs\\python\\python310\\lib\\site-packages (from matplotlib) (1.4.4)\n",
      "Requirement already satisfied: six>=1.5 in c:\\users\\newmersedez\\appdata\\roaming\\python\\python310\\site-packages (from python-dateutil>=2.7->matplotlib) (1.16.0)\n",
      "Note: you may need to restart the kernel to use updated packages.\n"
     ]
    },
    {
     "name": "stderr",
     "output_type": "stream",
     "text": [
      "WARNING: You are using pip version 22.0.4; however, version 22.3.1 is available.\n",
      "You should consider upgrading via the 'c:\\Users\\newmersedez\\AppData\\Local\\Programs\\Python\\Python310\\python.exe -m pip install --upgrade pip' command.\n"
     ]
    }
   ],
   "source": [
    "# Модули\n",
    "%pip install matplotlib\n",
    "\n",
    "import math\n",
    "import numpy as np\n",
    "import matplotlib.pyplot as plt"
   ]
  },
  {
   "cell_type": "markdown",
   "metadata": {},
   "source": [
    "Характеристики двигателя BE-3:"
   ]
  },
  {
   "cell_type": "code",
   "execution_count": 131,
   "metadata": {},
   "outputs": [],
   "source": [
    "# Диаметр ракеты (в метрах)\n",
    "d = 3.7\n",
    "\n",
    "# Тяга (в Н)\n",
    "P = 490 * 101.97\n",
    "\n",
    "# Начальная масса летательного аппарата (полезная нагрузка + конструкция аппарата + топливо) в кг\n",
    "m0 = 75000\n",
    "\n",
    "# Максимальная скорость полета ракеты\n",
    "v = 3568\n",
    "\n",
    "# Время полета первой ступени\n",
    "t_range = range(100)\n",
    "\n",
    "# Угол касательной к траектории с осью X\n",
    "angle = 90"
   ]
  },
  {
   "cell_type": "markdown",
   "metadata": {},
   "source": [
    "Дополнительные константы:"
   ]
  },
  {
   "cell_type": "code",
   "execution_count": 132,
   "metadata": {},
   "outputs": [],
   "source": [
    "# Ускорение свободного падения\n",
    "g = 9.8"
   ]
  },
  {
   "cell_type": "markdown",
   "metadata": {},
   "source": [
    "Расчет секундного расхода массы топлива:"
   ]
  },
  {
   "cell_type": "code",
   "execution_count": 133,
   "metadata": {},
   "outputs": [
    {
     "name": "stdout",
     "output_type": "stream",
     "text": [
      "0.6864148178041152\n",
      "600.9426402728706\n"
     ]
    }
   ],
   "source": [
    "# Коэффициент в выражении для расхода\n",
    "a_k = math.sqrt(k) * (2 / (k + 1)) ** ((k + 1)/(2 * (k - 1)))\n",
    "print(a_k)\n",
    "\n",
    "# секундный расход массы топлива\n",
    "m = (a_k * p0 * F_kr) / math.sqrt(R * T0)\n",
    "print(m)"
   ]
  },
  {
   "cell_type": "markdown",
   "metadata": {},
   "source": [
    "Расчет изменения массы ракеты относительно времени и секундного расхода топлива:"
   ]
  },
  {
   "cell_type": "code",
   "execution_count": 134,
   "metadata": {},
   "outputs": [
    {
     "name": "stdout",
     "output_type": "stream",
     "text": [
      "[75000.0, 74399.05735972713, 73798.11471945426, 73197.17207918139, 72596.22943890851, 71995.28679863564, 71394.34415836277, 70793.4015180899, 70192.45887781703, 69591.51623754416, 68990.5735972713, 68389.63095699843, 67788.68831672556, 67187.74567645269, 66586.80303617982, 65985.86039590694, 65384.91775563407, 64783.9751153612, 64183.03247508833, 63582.08983481546, 62981.14719454259, 62380.204554269716, 61779.261913996845, 61178.31927372397, 60577.3766334511, 59976.43399317824, 59375.49135290537, 58774.548712632495, 58173.606072359624, 57572.66343208675, 56971.72079181389, 56370.77815154102, 55769.835511268146, 55168.892870995274, 54567.9502307224, 53967.00759044953, 53366.06495017666, 52765.12230990379, 52164.17966963092, 51563.237029358046, 50962.294389085175, 50361.3517488123, 49760.40910853943, 49159.46646826656, 48558.5238279937, 47957.581187720825, 47356.638547447954, 46755.69590717508, 46154.75326690221, 45553.81062662935, 44952.867986356476, 44351.925346083604, 43750.98270581073, 43150.04006553786, 42549.09742526499, 41948.15478499212, 41347.21214471925, 40746.269504446376, 40145.326864173505, 39544.38422390063, 38943.44158362777, 38342.4989433549, 37741.55630308203, 37140.613662809155, 36539.671022536284, 35938.72838226341, 35337.78574199054, 34736.84310171767, 34135.9004614448, 33534.957821171934, 32934.01518089906, 32333.07254062619, 31732.12990035332, 31131.18726008045, 30530.244619807578, 29929.301979534706, 29328.359339261835, 28727.416698988964, 28126.4740587161, 27525.531418443228, 26924.588778170357, 26323.646137897485, 25722.703497624614, 25121.760857351743, 24520.81821707887, 23919.875576806, 23318.93293653313, 22717.990296260265, 22117.047655987393, 21516.105015714522, 20915.16237544165, 20314.21973516878, 19713.277094895908, 19112.334454623036, 18511.391814350165, 17910.449174077294, 17309.506533804422, 16708.56389353156, 16107.621253258687, 15506.678612985816]\n"
     ]
    }
   ],
   "source": [
    "# Изменение массы ракеты\n",
    "m_change = [m0 - m * t_i for t_i in t_range]\n",
    "print(m_change)"
   ]
  },
  {
   "cell_type": "markdown",
   "metadata": {},
   "source": [
    "Расчет силы лобового сопротивления ракеты:"
   ]
  },
  {
   "cell_type": "code",
   "execution_count": 139,
   "metadata": {},
   "outputs": [
    {
     "name": "stdout",
     "output_type": "stream",
     "text": [
      "5.4474781474042104e-06\n",
      "10.752100856911069\n"
     ]
    }
   ],
   "source": [
    "# Коэффициент силы лобового сопротивления\n",
    "Cx = 0.4\n",
    "\n",
    "# Плотность воздуха на высоте (каждые 1000 метров)\n",
    "p_0 = 1.29\n",
    "p_range = []\n",
    "z = 1.25e-4\n",
    "for h in range(0, 100000, 1000):\n",
    "    p_range.append(p_0 * math.exp(-h * z))\n",
    "print(p_range[99])\n",
    "\n",
    "# Площадь миделя ракеты:\n",
    "S = math.pi * (d / 2) ** 2\n",
    "print(S)\n",
    "\n",
    "# Сила лобового сопротивления ракеты\n",
    "X_range = [Cx * (p_i * v ** 2 / 2) * S for p_i in p_range]\n"
   ]
  },
  {
   "cell_type": "markdown",
   "metadata": {},
   "source": [
    "Расчет траектории движения:"
   ]
  },
  {
   "cell_type": "code",
   "execution_count": 138,
   "metadata": {},
   "outputs": [],
   "source": [
    "points = []\n",
    "for i in range(100):\n",
    "    point = (P - X_range[i]) / 2 - g * math.sin(angle)\n",
    "    points.append(point)\n"
   ]
  },
  {
   "cell_type": "markdown",
   "metadata": {},
   "source": [
    "График траектории полета от времени:"
   ]
  },
  {
   "cell_type": "code",
   "execution_count": 137,
   "metadata": {},
   "outputs": [
    {
     "data": {
      "image/png": "[encoded data removed]",
      "text/plain": [
       "<Figure size 1000x1000 with 1 Axes>"
      ]
     },
     "metadata": {},
     "output_type": "display_data"
    }
   ],
   "source": [
    "plt.figure(figsize=(10, 10))\n",
    "plt.plot(t_range, points)\n",
    "plt.xticks(np.arange(0, 110, 10))\n",
    "plt.show()"
   ]
  },
  {
   "cell_type": "code",
   "execution_count": null,
   "metadata": {},
   "outputs": [],
   "source": []
  },
  {
   "cell_type": "code",
   "execution_count": null,
   "metadata": {},
   "outputs": [],
   "source": []
  }
 ],
 "metadata": {
  "kernelspec": {
   "display_name": "Python 3.10.4 64-bit",
   "language": "python",
   "name": "python3"
  },
  "language_info": {
   "codemirror_mode": {
    "name": "ipython",
    "version": 3
   },
   "file_extension": ".py",
   "mimetype": "text/x-python",
   "name": "python",
   "nbconvert_exporter": "python",
   "pygments_lexer": "ipython3",
   "version": "3.10.4"
  },
  "orig_nbformat": 4,
  "vscode": {
   "interpreter": {
    "hash": "e807e0c0012f0843228a8556ec4e67610a80f353a082d7fd6960cb8fdfc4598a"
   }
  }
 },
 "nbformat": 4,
 "nbformat_minor": 2
}
