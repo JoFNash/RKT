{
 "cells": [
  {
   "cell_type": "markdown",
   "metadata": {},
   "source": [
    "# BLUE ORIGIN NEW SHEPARD"
   ]
  },
  {
   "cell_type": "markdown",
   "metadata": {},
   "source": [
    "## Описание математической модели"
   ]
  },
  {
   "cell_type": "markdown",
   "metadata": {},
   "source": [
    "### №1. Расчет максимальной скорости ракеты"
   ]
  },
  {
   "cell_type": "code",
   "execution_count": 1,
   "metadata": {},
   "outputs": [],
   "source": [
    "# Модули\n",
    "import math"
   ]
  },
  {
   "cell_type": "markdown",
   "metadata": {},
   "source": [
    "Характеристики двигателя BE-3:"
   ]
  },
  {
   "cell_type": "code",
   "execution_count": 2,
   "metadata": {},
   "outputs": [],
   "source": [
    "# Тяга (в Н)\n",
    "thrust = 490 * 1000\n",
    "\n",
    "# Показатель адиабаты жидкого водорода (топливо двигателя)\n",
    "k = 1.4\n",
    "\n",
    "# Давление в камере сгорания (в МПа)\n",
    "pressure = 13.4 * 100000\n",
    "\n",
    "# Диаметр критического сечения сопла (в метрах)\n",
    "critical_section_diameter = 0.379\n",
    "\n",
    "# Площадь критического сечения сопла (в метр^2)\n",
    "critical_section_area = math.pi * (critical_section_diameter / 2) ** 2\n",
    "\n",
    "# Температура продуктов сгорания (в Кельвинах)\n",
    "fuel_combustion_temperature = 3588\n",
    "\n",
    "# Начальная масса летательного аппарата (полезная нагрузка + конструкция аппарата + топливо) в кг\n",
    "start_rocket_mass = 75000\n",
    "\n",
    "# Конечная масса летательного аппарата (полезная нагрузка + конструкция аппарата) в кг = 20569\n",
    "end_rocket_mass = 24000"
   ]
  },
  {
   "cell_type": "markdown",
   "metadata": {},
   "source": [
    "Дополнительные константы:"
   ]
  },
  {
   "cell_type": "code",
   "execution_count": 3,
   "metadata": {},
   "outputs": [],
   "source": [
    "# Ускорение свободного падения\n",
    "g = 9.8\n",
    "\n",
    "# Газовая постоянная\n",
    "R = 8.31"
   ]
  },
  {
   "cell_type": "markdown",
   "metadata": {},
   "source": [
    "Расчет секундного расхода массы топлива:"
   ]
  },
  {
   "cell_type": "code",
   "execution_count": 4,
   "metadata": {},
   "outputs": [],
   "source": [
    "def calculate_fuel_consumption(k: float, pressure: float, critical_section_area: float, temperature: float):\n",
    "    a_k = math.sqrt(k) * (2 / (k + 1)) ** ((k + 1)/(2 * (k - 1)))\n",
    "    return (a_k * pressure * critical_section_area) / math.sqrt(R * temperature)"
   ]
  },
  {
   "cell_type": "markdown",
   "metadata": {},
   "source": [
    "Расчет удельного импульса тяги:"
   ]
  },
  {
   "cell_type": "code",
   "execution_count": 5,
   "metadata": {},
   "outputs": [],
   "source": [
    "def calculate_impulse(thrust: float, fuel_consumption: float):\n",
    "    return thrust / fuel_consumption"
   ]
  },
  {
   "attachments": {},
   "cell_type": "markdown",
   "metadata": {},
   "source": [
    "Расчет скорости ракеты под действием тяги ракетного двигателя \\\n",
    "Применим формулу Циолковского: \\\n",
    "\\\n",
    "$V = I \\cdot \\ln(\\frac{M1}{M2})$ \\\n",
    "\\\n",
    "где $V$ — конечная скорость летательного аппарата, которая для случая манёвра в космосе при орбитальных манёврах и межпланетных перелетах часто обозначается ΔV, также именуется характеристической скоростью; \\\n",
    "$I$ — удельный импульс ракетного двигателя (отношение тяги двигателя к секундному расходу массы топлива); \\\n",
    "$M_{1}$ — начальная масса летательного аппарата (полезная нагрузка + конструкция аппарата + топливо); \\\n",
    "$M_{2}$ — конечная масса летательного аппарата (полезная нагрузка + конструкция аппарата)."
   ]
  },
  {
   "cell_type": "code",
   "execution_count": 6,
   "metadata": {},
   "outputs": [
    {
     "name": "stdout",
     "output_type": "stream",
     "text": [
      "Итоговая теоретическая максимальная скорость = 931.362423607187 м/с\n"
     ]
    }
   ],
   "source": [
    "fuel_consumption = calculate_fuel_consumption(k, pressure, critical_section_area, fuel_combustion_temperature)\n",
    "impulse = calculate_impulse(thrust, fuel_consumption)\n",
    "\n",
    "max_speed = impulse * math.log(start_rocket_mass/end_rocket_mass)\n",
    "print(fr\"Итоговая теоретическая максимальная скорость = {max_speed} м/с\")"
   ]
  },
  {
   "cell_type": "markdown",
   "metadata": {},
   "source": [
    "Расчет абсолютной погрешности:"
   ]
  },
  {
   "cell_type": "code",
   "execution_count": 7,
   "metadata": {},
   "outputs": [
    {
     "name": "stdout",
     "output_type": "stream",
     "text": [
      "Абсолютная погрешность расчетов = 38.362423607187\n"
     ]
    }
   ],
   "source": [
    "# Максимальная скорость Blue Origin New Shepard в KSP(в м/c)\n",
    "V_experimental = 893\n",
    "\n",
    "# Максимальная скорость Blue Origin New Shepard в результате подсчета (в м/с)\n",
    "V_theoretical = max_speed\n",
    "\n",
    "abs_error = abs(V_theoretical - V_experimental)\n",
    "print(f\"Абсолютная погрешность расчетов = {abs_error}\")"
   ]
  },
  {
   "cell_type": "markdown",
   "metadata": {},
   "source": [
    "Расчет относительной погрешности:"
   ]
  },
  {
   "cell_type": "code",
   "execution_count": 8,
   "metadata": {},
   "outputs": [
    {
     "name": "stdout",
     "output_type": "stream",
     "text": [
      "Относительная погрешность расчетов = 4.3%\n"
     ]
    }
   ],
   "source": [
    "rel_error = round(abs_error / V_experimental * 100, 2)\n",
    "print(f\"Относительная погрешность расчетов = {rel_error}%\")"
   ]
  }
 ],
 "metadata": {
  "kernelspec": {
   "display_name": "Python 3.10.4 64-bit",
   "language": "python",
   "name": "python3"
  },
  "language_info": {
   "codemirror_mode": {
    "name": "ipython",
    "version": 3
   },
   "file_extension": ".py",
   "mimetype": "text/x-python",
   "name": "python",
   "nbconvert_exporter": "python",
   "pygments_lexer": "ipython3",
   "version": "3.10.4 (tags/v3.10.4:9d38120, Mar 23 2022, 23:13:41) [MSC v.1929 64 bit (AMD64)]"
  },
  "orig_nbformat": 4,
  "vscode": {
   "interpreter": {
    "hash": "e807e0c0012f0843228a8556ec4e67610a80f353a082d7fd6960cb8fdfc4598a"
   }
  }
 },
 "nbformat": 4,
 "nbformat_minor": 2
}
